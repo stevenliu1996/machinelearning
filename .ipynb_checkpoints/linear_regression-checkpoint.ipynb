{
 "cells": [
  {
   "cell_type": "markdown",
   "metadata": {},
   "source": [
    "# Linear Regression Model"
   ]
  },
  {
   "cell_type": "markdown",
   "metadata": {},
   "source": [
    "For Linear Regression like $Y = Xw$, we have $Y$ is $(n,)$ vec, and $w$ is $(m,)$ vec, and $X$ is $n \\times m$ matrix"
   ]
  },
  {
   "cell_type": "code",
   "execution_count": 141,
   "metadata": {},
   "outputs": [],
   "source": [
    "import numpy as np\n",
    "import matplotlib.pyplot as plt\n",
    "import seaborn as sns\n",
    "import time"
   ]
  },
  {
   "cell_type": "code",
   "execution_count": 142,
   "metadata": {},
   "outputs": [],
   "source": [
    "n = 1000\n",
    "m = 100\n",
    "X = np.random.randn(n,m)\n",
    "Y = X.dot(np.linspace(1, 2, m))+np.random.randn(n)"
   ]
  },
  {
   "cell_type": "markdown",
   "metadata": {},
   "source": [
    "### 1) firstly we do OLS\n",
    "Firstly we need to minimize $f = ||Y-Xw||^2 = (Y-Xw)^T(Y-Xw)$\n",
    "\n",
    "Then $df = (-Xdw)^T(Y-Xw) + (Y-Xw)^T(-Xdw)$"
   ]
  },
  {
   "cell_type": "markdown",
   "metadata": {},
   "source": [
    "Then $df = tr(df) = tr((-Xdw)^T(Y-Xw)) + tr((Y-Xw)^T(-Xdw))$\\\\\n",
    "$ = -tr((Y-Xw)^T)Xdw = tr((X^T(Xw-Y))^T dw)$\n",
    "\n"
   ]
  },
  {
   "cell_type": "markdown",
   "metadata": {},
   "source": [
    "Comparing with $df = tr(\\frac{df}{dw}^Tdw)$, we have $\\frac{df}{dw} = X^T(Xw-Y)$\n",
    "\n",
    "Let $\\frac{df}{dw} = 0$, we havew $w = (X^TX)^{-1}X^TY$"
   ]
  },
  {
   "cell_type": "code",
   "execution_count": 143,
   "metadata": {},
   "outputs": [
    {
     "data": {
      "text/plain": [
       "<matplotlib.axes._subplots.AxesSubplot at 0x7feba13bc588>"
      ]
     },
     "execution_count": 143,
     "metadata": {},
     "output_type": "execute_result"
    },
    {
     "data": {
      "image/png": "[encoded data removed]",
      "text/plain": [
       "<Figure size 432x288 with 1 Axes>"
      ]
     },
     "metadata": {
      "needs_background": "light"
     },
     "output_type": "display_data"
    }
   ],
   "source": [
    "def LinearRegression(x, y):\n",
    "    assert x.shape[0] == y.shape[0]\n",
    "    return np.linalg.inv(x.T.dot(x)).dot(x.T).dot(y)\n",
    "\n",
    "\n",
    "sns.scatterplot(x=range(m), y=LinearRegression(X, Y), color = 'red')\n",
    "sns.lineplot(x=range(m), y=np.linspace(1,2, m))"
   ]
  },
  {
   "cell_type": "markdown",
   "metadata": {},
   "source": [
    "Then we can see that, $Var(w) = Var((X^TX)^{-1}X^TY) = X(XX^T)^{-1} \\Sigma_Y (X^TX)^{-1}X^T/$"
   ]
  },
  {
   "cell_type": "markdown",
   "metadata": {},
   "source": [
    "calculate R square"
   ]
  },
  {
   "cell_type": "code",
   "execution_count": 144,
   "metadata": {},
   "outputs": [
    {
     "data": {
      "text/plain": [
       "0.9964996365606029"
      ]
     },
     "execution_count": 144,
     "metadata": {},
     "output_type": "execute_result"
    }
   ],
   "source": [
    "def R2(x, y, w):\n",
    "    res = y - x.dot(w)\n",
    "    return 1 - (res**2).sum() / ((y-y.mean())**2).sum()\n",
    "w = LinearRegression(X, Y)\n",
    "R2(X, Y, w)"
   ]
  },
  {
   "cell_type": "markdown",
   "metadata": {},
   "source": [
    "### 2 ) MLE\n",
    "\n",
    "The residuals follows $N(0, 1)$, so we have $p(Y|X;w) = \\frac{1}{\\sqrt{2\\pi}}e^{-\\frac{(Y-Xw)^T(Y-Xw)}{2}}$"
   ]
  },
  {
   "cell_type": "markdown",
   "metadata": {},
   "source": [
    "The loss function to minimize is -1 * maximum likelihood $l = (Y-Xw)^T(Y-Xw)$\n",
    "\n",
    "which is the same as OLS"
   ]
  },
  {
   "cell_type": "markdown",
   "metadata": {},
   "source": [
    "### 3) Gradient Descend"
   ]
  },
  {
   "cell_type": "markdown",
   "metadata": {},
   "source": [
    "For initial value $w_0$, we have the loss is $l = (Y-Xw_0)^T(Y-Xw_0)$\n",
    "\n",
    "and $\\frac{dl}{dw} = X^T(Xw-Y)$,\n",
    "\n",
    "so we have $W_{i+1} = W_i - \\alpha X^T(Xw_i - Y)$"
   ]
  },
  {
   "cell_type": "code",
   "execution_count": 145,
   "metadata": {},
   "outputs": [],
   "source": [
    "def LinearRegression_GD(X, Y, alpha = 0.000001, verbose=False):\n",
    "    assert X.shape[0] == Y.shape[0]\n",
    "    m = X.shape[1]\n",
    "    w1 = np.ones(m)\n",
    "    for i in range(1000):\n",
    "        w2 = w1 - alpha * X.T.dot(X.dot(w1)-Y)\n",
    "        if ((w1-w2)**2).sum() < 0.000001:\n",
    "            return w2\n",
    "        if verbose:\n",
    "            print('loss:', ((w1-w2)**2).sum())\n",
    "        w1 = w2\n",
    "    print('Not Converge')\n",
    "    return w2"
   ]
  },
  {
   "cell_type": "code",
   "execution_count": 146,
   "metadata": {},
   "outputs": [
    {
     "name": "stdout",
     "output_type": "stream",
     "text": [
      "loss: 40.237811271171374\n",
      "loss: 7.354051851190928\n",
      "loss: 2.702113725132052\n",
      "loss: 1.1895215443940497\n",
      "loss: 0.5695436546802399\n",
      "loss: 0.28555740058256385\n",
      "loss: 0.14737302400881117\n",
      "loss: 0.07763211968266341\n",
      "loss: 0.04154844779505211\n",
      "loss: 0.022526083829002206\n",
      "loss: 0.012345502583765364\n",
      "loss: 0.006827806395039211\n",
      "loss: 0.003805172183449329\n",
      "loss: 0.0021342509680853613\n",
      "loss: 0.0012034432946667556\n",
      "loss: 0.0006815724497633182\n",
      "loss: 0.00038740244715325086\n",
      "loss: 0.0002208455571414707\n",
      "loss: 0.00012619758294981517\n",
      "loss: 7.225223421431527e-05\n",
      "loss: 4.143113723300201e-05\n",
      "loss: 2.378730532853847e-05\n",
      "loss: 1.3670958672891149e-05\n",
      "loss: 7.863233716476522e-06\n",
      "loss: 4.525660393784055e-06\n",
      "loss: 2.606064393954815e-06\n",
      "loss: 1.5012939094557414e-06\n"
     ]
    },
    {
     "data": {
      "text/plain": [
       "<matplotlib.axes._subplots.AxesSubplot at 0x7feba14261d0>"
      ]
     },
     "execution_count": 146,
     "metadata": {},
     "output_type": "execute_result"
    },
    {
     "data": {
      "image/png": "[encoded data removed]",
      "text/plain": [
       "<Figure size 432x288 with 1 Axes>"
      ]
     },
     "metadata": {
      "needs_background": "light"
     },
     "output_type": "display_data"
    }
   ],
   "source": [
    "w = LinearRegression_GD(X, Y, 0.001, True)\n",
    "sns.scatterplot(x=range(m), y=w, color='red')\n",
    "sns.lineplot(x=range(m), y=np.linspace(1,2, m))"
   ]
  },
  {
   "cell_type": "code",
   "execution_count": 147,
   "metadata": {},
   "outputs": [
    {
     "data": {
      "text/plain": [
       "0.9964996353787386"
      ]
     },
     "execution_count": 147,
     "metadata": {},
     "output_type": "execute_result"
    }
   ],
   "source": [
    "R2(X, Y, w)"
   ]
  },
  {
   "cell_type": "markdown",
   "metadata": {},
   "source": [
    "### 4) Speed test and accuracy between OLS and GD"
   ]
  },
  {
   "cell_type": "code",
   "execution_count": 148,
   "metadata": {},
   "outputs": [
    {
     "name": "stdout",
     "output_type": "stream",
     "text": [
      "505 µs ± 58.6 µs per loop (mean ± std. dev. of 7 runs, 1000 loops each)\n",
      "640 µs ± 76.1 µs per loop (mean ± std. dev. of 7 runs, 1000 loops each)\n"
     ]
    }
   ],
   "source": [
    "n = 1000\n",
    "m = 100\n",
    "X = np.random.randn(n,m)\n",
    "Y = X.dot(np.linspace(1, 2, m))+np.random.randn(n)\n",
    "%timeit LinearRegression(X, Y)\n",
    "%timeit LinearRegression_GD(X, Y, alpha=0.001)"
   ]
  },
  {
   "cell_type": "markdown",
   "metadata": {},
   "source": [
    "Consider in quant finance, for 3 month we have n = 30 * 3 * 22 * 240 = 475200, m = 1000 features"
   ]
  },
  {
   "cell_type": "code",
   "execution_count": 149,
   "metadata": {},
   "outputs": [],
   "source": [
    "n = 475200\n",
    "m = 1000\n",
    "X = np.random.randn(n,m)\n",
    "Y = X.dot(np.linspace(1, 2, m))+np.random.randn(n)"
   ]
  },
  {
   "cell_type": "markdown",
   "metadata": {},
   "source": [
    "#### benhmark Sklearn LR"
   ]
  },
  {
   "cell_type": "code",
   "execution_count": 138,
   "metadata": {},
   "outputs": [
    {
     "name": "stdout",
     "output_type": "stream",
     "text": [
      "38.23426103591919\n"
     ]
    }
   ],
   "source": [
    "from sklearn.linear_model import LinearRegression as sklearn_lr\n",
    "t1 = time.time()\n",
    "sklearn_lr(fit_intercept=False).fit(X, Y)\n",
    "print(time.time() - t1)"
   ]
  },
  {
   "cell_type": "markdown",
   "metadata": {},
   "source": [
    "#### simple linear algebra"
   ]
  },
  {
   "cell_type": "code",
   "execution_count": 132,
   "metadata": {},
   "outputs": [
    {
     "name": "stdout",
     "output_type": "stream",
     "text": [
      "18.420275926589966\n"
     ]
    }
   ],
   "source": [
    "t1 = time.time()\n",
    "LinearRegression(X, Y)\n",
    "print(time.time() - t1)"
   ]
  },
  {
   "cell_type": "markdown",
   "metadata": {},
   "source": [
    "#### Gradient descent"
   ]
  },
  {
   "cell_type": "code",
   "execution_count": 150,
   "metadata": {},
   "outputs": [
    {
     "name": "stdout",
     "output_type": "stream",
     "text": [
      "loss: 75.37554345323852\n",
      "loss: 20.66376775408139\n",
      "loss: 5.703109663662525\n",
      "loss: 1.5844471793584889\n",
      "loss: 0.44302974813973567\n",
      "loss: 0.12464913328913721\n",
      "loss: 0.03528162068311095\n",
      "loss: 0.010043946065418866\n",
      "loss: 0.0028750477094576146\n",
      "loss: 0.0008272860963341652\n",
      "loss: 0.00023923267266998157\n",
      "loss: 6.950630616295623e-05\n",
      "loss: 2.0284015504222476e-05\n",
      "loss: 5.944291282366125e-06\n",
      "loss: 1.7488690531145978e-06\n",
      "5.946364164352417\n"
     ]
    }
   ],
   "source": [
    "t1 = time.time()\n",
    "LinearRegression_GD(X, Y, alpha=0.000001, verbose=True)\n",
    "print(time.time() - t1)"
   ]
  },
  {
   "cell_type": "markdown",
   "metadata": {},
   "source": [
    "#### Gradient Desent with batches"
   ]
  },
  {
   "cell_type": "code",
   "execution_count": 151,
   "metadata": {},
   "outputs": [],
   "source": [
    "def LinearRegression_GDB(X, Y, alpha = 0.000001, verbose=False):\n",
    "    assert X.shape[0] == Y.shape[0]\n",
    "    m = X.shape[1]\n",
    "    w1 = np.ones(m)  \n",
    "    for i in range(100000):\n",
    "        batch = 10000\n",
    "        num_of_batch = X.shape[0] // batch +1\n",
    "        w2 = w1.copy()\n",
    "        for j in range(num_of_batch):\n",
    "            idx = np.arange(j * batch, np.minimum((j+1) * batch, X.shape[0]))\n",
    "            w2 = w2 - alpha * X[idx, :].T.dot(X[idx, :].dot(w1)-Y[idx])  \n",
    "            if (j % np.maximum(num_of_batch // 5, 1) == 0) & verbose:\n",
    "                print('{:.0f}%'.format(j/num_of_batch*100),end=' ')\n",
    "        if verbose:\n",
    "            print(((w1-w2)**2).sum(), ((w1-np.linspace(1, 2, m))**2).sum())\n",
    "        if ((w1-w2)**2).sum() < 0.0001:\n",
    "            return w2\n",
    "        w1 = w2\n",
    "    print('Not Converge')\n",
    "    return w2"
   ]
  },
  {
   "cell_type": "code",
   "execution_count": 152,
   "metadata": {},
   "outputs": [
    {
     "name": "stdout",
     "output_type": "stream",
     "text": [
      "0% 19% 38% 56% 75% 94% 75.37554345323846 333.50016683350015\n",
      "0% 19% 38% 56% 75% 94% 20.663767754081388 92.10127756596864\n",
      "0% 19% 38% 56% 75% 94% 5.703109663662535 25.60311022483989\n",
      "0% 19% 38% 56% 75% 94% 1.5844471793584896 7.1633634190111035\n",
      "0% 19% 38% 56% 75% 94% 0.4430297481397362 2.0172163862723953\n",
      "0% 19% 38% 56% 75% 94% 0.12464913328913801 0.5722049828994498\n",
      "0% 19% 38% 56% 75% 94% 0.03528162068311098 0.1641137399941353\n",
      "0% 19% 38% 56% 75% 94% 0.010043946065418807 0.048262075475464405\n",
      "0% 19% 38% 56% 75% 94% 0.0028750477094577776 0.015229741051589389\n",
      "0% 19% 38% 56% 75% 94% 0.0008272860963341452 0.005783432147164615\n",
      "0% 19% 38% 56% 75% 94% 0.00023923267266995926 0.0030806593547869653\n",
      "0% 19% 38% 56% 75% 94% 6.95063061629646e-05 0.002310413870379828\n",
      "27.19553279876709\n"
     ]
    }
   ],
   "source": [
    "t1 = time.time()\n",
    "LinearRegression_GDB(X, Y, alpha=0.000001, verbose=True)\n",
    "print(time.time() - t1)"
   ]
  },
  {
   "cell_type": "markdown",
   "metadata": {},
   "source": [
    "This is strange and probably due to the reason that loop in python is much slower and the scale of data is not too large. In general, in Gradient Descent, we need to have time complexity of $O(amn^2)$, and the GD with batches is $O(amn^2/B)$, and the algebra way is $O(m^2n^2)$"
   ]
  },
  {
   "cell_type": "markdown",
   "metadata": {},
   "source": [
    "## then we go to lasso and ridge"
   ]
  },
  {
   "cell_type": "markdown",
   "metadata": {},
   "source": [
    "#### Lasso\n",
    "\n",
    "In general, the ridge is no different from linear regression expect that there is a l2 norm in ridge, which makes the $\\frac{dl}{dw} = X^T(Xw-Y) + 2\\alpha w $"
   ]
  },
  {
   "cell_type": "markdown",
   "metadata": {},
   "source": [
    "### Lasso\n",
    "\n",
    "Lasso is much difficult because its loss function is not differentiable everywhere.\n",
    "\n",
    "So we need to use Least Angle regression, which is a greedy algo to approach the Y in the columns space of X"
   ]
  },
  {
   "cell_type": "markdown",
   "metadata": {},
   "source": [
    "Also, we can use coordinate descent, during the iteration of which we fix all the other coordinates and find a local minimum of the left coordinate and do it for all the coordinates."
   ]
  },
  {
   "cell_type": "markdown",
   "metadata": {},
   "source": [
    "Here is example of coordinate descend/"
   ]
  },
  {
   "cell_type": "code",
   "execution_count": 185,
   "metadata": {},
   "outputs": [],
   "source": [
    "n = 470000\n",
    "m = 1000\n",
    "X = np.random.randn(n,m)\n",
    "good_feature = 100\n",
    "Y = X[:, :good_feature].dot(np.linspace(1, 2, good_feature))+np.random.randn(n)"
   ]
  },
  {
   "cell_type": "code",
   "execution_count": 186,
   "metadata": {},
   "outputs": [],
   "source": [
    "def LassoRegression(X, Y, alpha = 0.001,learning_rate=0.0001, verbose=False):\n",
    "    assert X.shape[0] == Y.shape[0]\n",
    "    m = X.shape[1]\n",
    "    w1 = np.ones(m)\n",
    "    for i in range(1000):\n",
    "        w2 = w1 - learning_rate * ((X.dot(w1) - Y).T.dot(X) + alpha * np.sign(w1))        \n",
    "        if ((w1-w2)**2).sum() < 0.000001:\n",
    "            return w2\n",
    "        if verbose:\n",
    "            print('loss:', ((w1-w2)**2).sum())\n",
    "        w1 = w2\n",
    "    print('Not Converge')\n",
    "    return w2\n",
    "# LassoRegression(X, Y, verbose=True)"
   ]
  },
  {
   "cell_type": "code",
   "execution_count": 187,
   "metadata": {
    "scrolled": true
   },
   "outputs": [
    {
     "name": "stdout",
     "output_type": "stream",
     "text": [
      "loss: 206.81814325059213\n",
      "loss: 57.71999960164434\n",
      "loss: 16.21440082511578\n",
      "loss: 4.584462380304746\n",
      "loss: 1.3045128254510145\n",
      "loss: 0.37352948417215626\n",
      "loss: 0.10760895020488036\n",
      "loss: 0.03118439438197481\n",
      "loss: 0.009088641118312044\n",
      "loss: 0.002663283607152655\n",
      "loss: 0.00078433371128153\n",
      "loss: 0.0002320149220088407\n",
      "loss: 6.890784877581472e-05\n",
      "loss: 2.05464604432242e-05\n",
      "loss: 6.1524396114296e-06\n",
      "loss: 1.850770347926732e-06\n"
     ]
    },
    {
     "data": {
      "text/plain": [
       "<matplotlib.axes._subplots.AxesSubplot at 0x7feba76269b0>"
      ]
     },
     "execution_count": 187,
     "metadata": {},
     "output_type": "execute_result"
    },
    {
     "data": {
      "image/png": "[encoded data removed]",
      "text/plain": [
       "<Figure size 432x288 with 1 Axes>"
      ]
     },
     "metadata": {
      "needs_background": "light"
     },
     "output_type": "display_data"
    }
   ],
   "source": [
    "w = LassoRegression(X, Y, learning_rate=0.000001, alpha=1, verbose=True)\n",
    "sns.scatterplot(x=range(m), y=w, color='red')\n",
    "sns.lineplot(x=range(good_feature), y=np.linspace(1,2, good_feature))"
   ]
  },
  {
   "cell_type": "code",
   "execution_count": null,
   "metadata": {},
   "outputs": [],
   "source": []
  }
 ],
 "metadata": {
  "kernelspec": {
   "display_name": "Python 3",
   "language": "python",
   "name": "python3"
  },
  "language_info": {
   "codemirror_mode": {
    "name": "ipython",
    "version": 3
   },
   "file_extension": ".py",
   "mimetype": "text/x-python",
   "name": "python",
   "nbconvert_exporter": "python",
   "pygments_lexer": "ipython3",
   "version": "3.7.3"
  }
 },
 "nbformat": 4,
 "nbformat_minor": 2
}
